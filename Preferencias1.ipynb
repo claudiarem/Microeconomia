{
  "nbformat": 4,
  "nbformat_minor": 0,
  "metadata": {
    "colab": {
      "provenance": []
    },
    "kernelspec": {
      "name": "python3",
      "display_name": "Python 3"
    },
    "language_info": {
      "name": "python"
    }
  },
  "cells": [
    {
      "cell_type": "markdown",
      "source": [
        "Para la función de utilidad que representa las preferencias racionales\n",
        "$$u(x,y) = \\max\\{x,2y\\}$$\n",
        "vamos a esbozar la gráfica de curva de indiferencia correspondiente a nivel de utilidad $\\overline{u} = 10$."
      ],
      "metadata": {
        "id": "rMkIkz9qdvyx"
      }
    },
    {
      "cell_type": "code",
      "execution_count": null,
      "metadata": {
        "id": "oEA72ukEdrP_"
      },
      "outputs": [],
      "source": [
        "import numpy as np\n",
        "import matplotlib.pyplot as plt\n",
        "\n",
        "# Definir la función de utilidad\n",
        "def utilidad(x, y):\n",
        "    return np.maximum(x, 2 * y) #Colocar la función de utilidad\n",
        "\n",
        "# Valores para el nivel de utilidad constante\n",
        "U0 = 10\n",
        "\n",
        "# Crear un malla de valores para x e y\n",
        "x = np.linspace(0, 15, 400)\n",
        "y = np.linspace(0, 10, 400)\n",
        "X, Y = np.meshgrid(x, y)\n",
        "\n",
        "# Calcular los valores de la función de utilidad\n",
        "Z = utilidad(X,Y)\n",
        "\n",
        "# Graficar la curva de indiferencia para un nivel de utilidad U0\n",
        "plt.contour(X, Y, Z, levels=[U0], colors='blue')\n",
        "plt.xlabel('x')\n",
        "plt.ylabel('y')\n",
        "plt.title(f'Curva de Indiferencia para U(x, y) = max(x,2y) = {U0}')\n",
        "plt.grid(True)\n",
        "plt.show()"
      ]
    }
  ]
}